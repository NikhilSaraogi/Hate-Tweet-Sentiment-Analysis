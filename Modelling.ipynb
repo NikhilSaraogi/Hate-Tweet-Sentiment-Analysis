{
 "cells": [
  {
   "cell_type": "code",
   "execution_count": 16,
   "id": "174376fb",
   "metadata": {},
   "outputs": [],
   "source": [
    "import numpy as np \n",
    "import pandas as pd\n",
    "import warnings\n",
    "warnings.filterwarnings('ignore')\n",
    "import pickle\n",
    "\n",
    "from sklearn import linear_model\n",
    "from sklearn.linear_model import LogisticRegression\n",
    "from sklearn.tree import DecisionTreeClassifier\n",
    "from sklearn.naive_bayes import MultinomialNB\n",
    "from sklearn.ensemble import RandomForestClassifier\n",
    "from sklearn.model_selection import train_test_split\n",
    "from sklearn.feature_extraction.text import TfidfVectorizer\n",
    "\n",
    "import nltk\n",
    "from nltk.corpus import stopwords\n",
    "import string\n",
    "from collections import Counter\n",
    "\n",
    "from sklearn.utils import resample\n",
    "from imblearn.under_sampling import ClusterCentroids, EditedNearestNeighbours, RandomUnderSampler, TomekLinks, CondensedNearestNeighbour\n",
    "from imblearn.combine import SMOTETomek, SMOTEENN\n",
    "\n",
    "%reload_ext autoreload\n",
    "%autoreload 2\n",
    "from utils import *"
   ]
  },
  {
   "cell_type": "code",
   "execution_count": 17,
   "id": "26ad1afc",
   "metadata": {},
   "outputs": [],
   "source": [
    "train = pickle.load(open(\"data/train.pickle\", \"rb\"))\n",
    "val = pickle.load(open(\"data/val.pickle\", \"rb\"))"
   ]
  },
  {
   "cell_type": "markdown",
   "id": "868e115a",
   "metadata": {},
   "source": [
    "## Train-Test Split"
   ]
  },
  {
   "cell_type": "code",
   "execution_count": 18,
   "id": "340c7491",
   "metadata": {},
   "outputs": [
    {
     "data": {
      "text/html": [
       "<div>\n",
       "<style scoped>\n",
       "    .dataframe tbody tr th:only-of-type {\n",
       "        vertical-align: middle;\n",
       "    }\n",
       "\n",
       "    .dataframe tbody tr th {\n",
       "        vertical-align: top;\n",
       "    }\n",
       "\n",
       "    .dataframe thead th {\n",
       "        text-align: right;\n",
       "    }\n",
       "</style>\n",
       "<table border=\"1\" class=\"dataframe\">\n",
       "  <thead>\n",
       "    <tr style=\"text-align: right;\">\n",
       "      <th></th>\n",
       "      <th>tweet</th>\n",
       "      <th>target</th>\n",
       "      <th>lem</th>\n",
       "    </tr>\n",
       "  </thead>\n",
       "  <tbody>\n",
       "    <tr>\n",
       "      <th>0</th>\n",
       "      <td>big night  wcvb martha coakleycharlie baker de...</td>\n",
       "      <td>0</td>\n",
       "      <td>big night wcvb martha coakleycharlie baker deb...</td>\n",
       "    </tr>\n",
       "    <tr>\n",
       "      <th>1</th>\n",
       "      <td>not one bitch  texting  right now followers in...</td>\n",
       "      <td>0</td>\n",
       "      <td>not one bitch texting right now follower inch ...</td>\n",
       "    </tr>\n",
       "    <tr>\n",
       "      <th>2</th>\n",
       "      <td>going  miss these bitches  much far right she...</td>\n",
       "      <td>0</td>\n",
       "      <td>going miss these bitch much far right she rest...</td>\n",
       "    </tr>\n",
       "    <tr>\n",
       "      <th>3</th>\n",
       "      <td>hope shes larger than  bird</td>\n",
       "      <td>0</td>\n",
       "      <td>hope shes larger than bird</td>\n",
       "    </tr>\n",
       "    <tr>\n",
       "      <th>4</th>\n",
       "      <td>all went through  much shit together  miss th...</td>\n",
       "      <td>0</td>\n",
       "      <td>all went through much shit together miss them ...</td>\n",
       "    </tr>\n",
       "  </tbody>\n",
       "</table>\n",
       "</div>"
      ],
      "text/plain": [
       "                                               tweet  target  \\\n",
       "0  big night  wcvb martha coakleycharlie baker de...       0   \n",
       "1  not one bitch  texting  right now followers in...       0   \n",
       "2   going  miss these bitches  much far right she...       0   \n",
       "3                        hope shes larger than  bird       0   \n",
       "4   all went through  much shit together  miss th...       0   \n",
       "\n",
       "                                                 lem  \n",
       "0  big night wcvb martha coakleycharlie baker deb...  \n",
       "1  not one bitch texting right now follower inch ...  \n",
       "2  going miss these bitch much far right she rest...  \n",
       "3                         hope shes larger than bird  \n",
       "4  all went through much shit together miss them ...  "
      ]
     },
     "execution_count": 18,
     "metadata": {},
     "output_type": "execute_result"
    }
   ],
   "source": [
    "train.head()"
   ]
  },
  {
   "cell_type": "code",
   "execution_count": 19,
   "id": "10936a70",
   "metadata": {},
   "outputs": [
    {
     "data": {
      "text/plain": [
       "0    17518\n",
       "1     1069\n",
       "Name: target, dtype: int64"
      ]
     },
     "execution_count": 19,
     "metadata": {},
     "output_type": "execute_result"
    }
   ],
   "source": [
    "train.target.value_counts()"
   ]
  },
  {
   "cell_type": "markdown",
   "id": "e4fe4892",
   "metadata": {},
   "source": [
    "## Stop Word Removal\n"
   ]
  },
  {
   "cell_type": "code",
   "execution_count": 20,
   "id": "ca9aca0c",
   "metadata": {},
   "outputs": [
    {
     "data": {
      "text/html": [
       "<div>\n",
       "<style scoped>\n",
       "    .dataframe tbody tr th:only-of-type {\n",
       "        vertical-align: middle;\n",
       "    }\n",
       "\n",
       "    .dataframe tbody tr th {\n",
       "        vertical-align: top;\n",
       "    }\n",
       "\n",
       "    .dataframe thead th {\n",
       "        text-align: right;\n",
       "    }\n",
       "</style>\n",
       "<table border=\"1\" class=\"dataframe\">\n",
       "  <thead>\n",
       "    <tr style=\"text-align: right;\">\n",
       "      <th></th>\n",
       "      <th>tweet</th>\n",
       "      <th>target</th>\n",
       "      <th>lem</th>\n",
       "    </tr>\n",
       "  </thead>\n",
       "  <tbody>\n",
       "    <tr>\n",
       "      <th>0</th>\n",
       "      <td>big night  wcvb martha coakleycharlie baker de...</td>\n",
       "      <td>0</td>\n",
       "      <td>big night wcvb martha coakleycharlie baker deb...</td>\n",
       "    </tr>\n",
       "    <tr>\n",
       "      <th>1</th>\n",
       "      <td>not one bitch  texting  right now followers in...</td>\n",
       "      <td>0</td>\n",
       "      <td>one bitch texting right follower inch rim inch...</td>\n",
       "    </tr>\n",
       "    <tr>\n",
       "      <th>2</th>\n",
       "      <td>going  miss these bitches  much far right she...</td>\n",
       "      <td>0</td>\n",
       "      <td>going miss bitch much far right resting girl b...</td>\n",
       "    </tr>\n",
       "    <tr>\n",
       "      <th>3</th>\n",
       "      <td>hope shes larger than  bird</td>\n",
       "      <td>0</td>\n",
       "      <td>hope larger bird</td>\n",
       "    </tr>\n",
       "    <tr>\n",
       "      <th>4</th>\n",
       "      <td>all went through  much shit together  miss th...</td>\n",
       "      <td>0</td>\n",
       "      <td>went much shit together miss bitch</td>\n",
       "    </tr>\n",
       "  </tbody>\n",
       "</table>\n",
       "</div>"
      ],
      "text/plain": [
       "                                               tweet  target  \\\n",
       "0  big night  wcvb martha coakleycharlie baker de...       0   \n",
       "1  not one bitch  texting  right now followers in...       0   \n",
       "2   going  miss these bitches  much far right she...       0   \n",
       "3                        hope shes larger than  bird       0   \n",
       "4   all went through  much shit together  miss th...       0   \n",
       "\n",
       "                                                 lem  \n",
       "0  big night wcvb martha coakleycharlie baker deb...  \n",
       "1  one bitch texting right follower inch rim inch...  \n",
       "2  going miss bitch much far right resting girl b...  \n",
       "3                                   hope larger bird  \n",
       "4                 went much shit together miss bitch  "
      ]
     },
     "execution_count": 20,
     "metadata": {},
     "output_type": "execute_result"
    }
   ],
   "source": [
    "stop_words = set(stopwords.words('english'))\n",
    "stop_list = [''.join(c for c in s if c not in string.punctuation) for s in stop_words]\n",
    "train.lem = train['lem'].apply(lambda x: ' '.join([item for item in x.split() if item not in stop_list]))\n",
    "train.head()"
   ]
  },
  {
   "cell_type": "code",
   "execution_count": 21,
   "id": "b6e34c27",
   "metadata": {},
   "outputs": [
    {
     "data": {
      "text/html": [
       "<div>\n",
       "<style scoped>\n",
       "    .dataframe tbody tr th:only-of-type {\n",
       "        vertical-align: middle;\n",
       "    }\n",
       "\n",
       "    .dataframe tbody tr th {\n",
       "        vertical-align: top;\n",
       "    }\n",
       "\n",
       "    .dataframe thead th {\n",
       "        text-align: right;\n",
       "    }\n",
       "</style>\n",
       "<table border=\"1\" class=\"dataframe\">\n",
       "  <thead>\n",
       "    <tr style=\"text-align: right;\">\n",
       "      <th></th>\n",
       "      <th>tweet</th>\n",
       "      <th>target</th>\n",
       "      <th>lem</th>\n",
       "    </tr>\n",
       "  </thead>\n",
       "  <tbody>\n",
       "    <tr>\n",
       "      <th>0</th>\n",
       "      <td>got  missed call from  bitch</td>\n",
       "      <td>0</td>\n",
       "      <td>got missed call bitch</td>\n",
       "    </tr>\n",
       "    <tr>\n",
       "      <th>1</th>\n",
       "      <td>fucking with  bad bitch you gone need some mon...</td>\n",
       "      <td>0</td>\n",
       "      <td>fucking bad bitch gone need money lil homie</td>\n",
       "    </tr>\n",
       "    <tr>\n",
       "      <th>2</th>\n",
       "      <td>lol  credit aint  where near good but  know th...</td>\n",
       "      <td>0</td>\n",
       "      <td>lol credit aint near good know right man job n...</td>\n",
       "    </tr>\n",
       "    <tr>\n",
       "      <th>3</th>\n",
       "      <td>wipe the cum out  them faggot contact lens  wi...</td>\n",
       "      <td>0</td>\n",
       "      <td>wipe cum faggot contact lens wildin cant see shit</td>\n",
       "    </tr>\n",
       "    <tr>\n",
       "      <th>4</th>\n",
       "      <td>niggas cheat  they bitch and dont expect  pay ...</td>\n",
       "      <td>0</td>\n",
       "      <td>nigga cheat bitch expect pay back whatsoever y...</td>\n",
       "    </tr>\n",
       "  </tbody>\n",
       "</table>\n",
       "</div>"
      ],
      "text/plain": [
       "                                               tweet  target  \\\n",
       "0                       got  missed call from  bitch       0   \n",
       "1  fucking with  bad bitch you gone need some mon...       0   \n",
       "2  lol  credit aint  where near good but  know th...       0   \n",
       "3  wipe the cum out  them faggot contact lens  wi...       0   \n",
       "4  niggas cheat  they bitch and dont expect  pay ...       0   \n",
       "\n",
       "                                                 lem  \n",
       "0                              got missed call bitch  \n",
       "1        fucking bad bitch gone need money lil homie  \n",
       "2  lol credit aint near good know right man job n...  \n",
       "3  wipe cum faggot contact lens wildin cant see shit  \n",
       "4  nigga cheat bitch expect pay back whatsoever y...  "
      ]
     },
     "execution_count": 21,
     "metadata": {},
     "output_type": "execute_result"
    }
   ],
   "source": [
    "val.lem = val['lem'].apply(lambda x: ' '.join([item for item in x.split() if item not in stop_list]))\n",
    "val.head()"
   ]
  },
  {
   "cell_type": "markdown",
   "id": "b1acf5a0",
   "metadata": {},
   "source": [
    "## Assign Feature and Target Variable"
   ]
  },
  {
   "cell_type": "code",
   "execution_count": 22,
   "id": "4e835932",
   "metadata": {},
   "outputs": [],
   "source": [
    "X_tr = train.lem\n",
    "X_val = val.lem\n",
    "y_tr = train.target\n",
    "y_val = val.target"
   ]
  },
  {
   "cell_type": "markdown",
   "id": "fe0935bd",
   "metadata": {},
   "source": [
    "## TF-IDF Vectorizer "
   ]
  },
  {
   "cell_type": "code",
   "execution_count": 23,
   "id": "30c51bb7",
   "metadata": {},
   "outputs": [],
   "source": [
    "vec = TfidfVectorizer()\n",
    "tfidf_tr = vec.fit_transform(X_tr)\n",
    "tfidf_val = vec.transform(X_val)"
   ]
  },
  {
   "cell_type": "markdown",
   "id": "d3fa86ae",
   "metadata": {},
   "source": [
    "## Multinomial Naive Bayes "
   ]
  },
  {
   "cell_type": "code",
   "execution_count": 24,
   "id": "e20bbd45",
   "metadata": {},
   "outputs": [
    {
     "name": "stdout",
     "output_type": "stream",
     "text": [
      "Training Precision Score: 0.875\n",
      "Training Average precision-recall score: 0.06\n",
      "Training F1 score: 0.01\n",
      "Training Recall score: 0.01\n"
     ]
    }
   ],
   "source": [
    "nb = MultinomialNB().fit(tfidf_tr, y_tr)\n",
    "y_pr_nb_tr = nb.predict(tfidf_tr)\n",
    "y_pr_nb_val = nb.predict(tfidf_val)\n",
    "from sklearn.metrics import accuracy_score, f1_score, confusion_matrix, recall_score,precision_score,average_precision_score\n",
    "t_rf_precision_train = precision_score(y_tr,y_pr_nb_tr)\n",
    "print('Training Precision Score: {:.4}'.format(t_rf_precision_train))\n",
    "average_precision = average_precision_score(y_tr,y_pr_nb_tr)\n",
    "print('Training Average precision-recall score: {0:0.2f}'.format(average_precision))\n",
    "f1 = f1_score(y_tr,y_pr_nb_tr)\n",
    "print('Training F1 score: {0:0.2f}'.format(f1))\n",
    "recall = recall_score(y_tr,y_pr_nb_tr)\n",
    "print('Training Recall score: {0:0.2f}'.format(recall))"
   ]
  },
  {
   "cell_type": "code",
   "execution_count": 25,
   "id": "44a73cea",
   "metadata": {},
   "outputs": [
    {
     "data": {
      "image/png": "[encoded data removed]",
      "text/plain": [
       "<Figure size 432x432 with 1 Axes>"
      ]
     },
     "metadata": {},
     "output_type": "display_data"
    }
   ],
   "source": [
    "import matplotlib.pyplot as plt\n",
    "import seaborn as sns; sns.set()\n",
    "fig, ax = plt.subplots(figsize=(6,6))\n",
    "mat = confusion_matrix(y_val,y_pr_nb_val)\n",
    "sns.heatmap(mat.T, square=True, annot=True, fmt='d', cbar=False,\n",
    "            xticklabels=['0', '1'], yticklabels=['1', '0'])\n",
    "plt.xlabel('predicted label')\n",
    "plt.ylabel('true label')\n",
    "plt.title('Confusion Matrix for Naive Bayes Baseline')\n",
    "plt.show()"
   ]
  },
  {
   "cell_type": "markdown",
   "id": "6622d888",
   "metadata": {},
   "source": [
    "## Random Forest Classifier"
   ]
  },
  {
   "cell_type": "code",
   "execution_count": 26,
   "id": "408fabc3",
   "metadata": {},
   "outputs": [
    {
     "name": "stdout",
     "output_type": "stream",
     "text": [
      "Training Precision Score: 0.875\n",
      "Training Average precision-recall score: 0.06\n",
      "Training F1 score: 0.01\n",
      "Training Recall score: 0.01\n"
     ]
    },
    {
     "data": {
      "image/png": "[encoded data removed]",
      "text/plain": [
       "<Figure size 432x432 with 1 Axes>"
      ]
     },
     "metadata": {},
     "output_type": "display_data"
    }
   ],
   "source": [
    "rf = RandomForestClassifier(n_estimators=100).fit(tfidf_tr, y_tr)\n",
    "y_pr_rf_tr = rf.predict(tfidf_tr)\n",
    "y_pr_rf_val = rf.predict(tfidf_val)\n",
    "t_rf_precision_train = precision_score(y_tr,y_pr_nb_tr)\n",
    "print('Training Precision Score: {:.4}'.format(t_rf_precision_train))\n",
    "average_precision = average_precision_score(y_tr,y_pr_nb_tr)\n",
    "print('Training Average precision-recall score: {0:0.2f}'.format(average_precision))\n",
    "f1 = f1_score(y_tr,y_pr_nb_tr)\n",
    "print('Training F1 score: {0:0.2f}'.format(f1))\n",
    "recall = recall_score(y_tr,y_pr_nb_tr)\n",
    "print('Training Recall score: {0:0.2f}'.format(recall))\n",
    "fig, ax = plt.subplots(figsize=(6,6))\n",
    "mat = confusion_matrix(y_val,y_pr_rf_val)\n",
    "sns.heatmap(mat.T, square=True, annot=True, fmt='d', cbar=False,\n",
    "            xticklabels=['0', '1'], yticklabels=['1', '0'])\n",
    "plt.xlabel('predicted label')\n",
    "plt.ylabel('true label')\n",
    "plt.title('Confusion Matrix for Random Forest Baseline')\n",
    "plt.show()\n"
   ]
  },
  {
   "cell_type": "markdown",
   "id": "7a94daea",
   "metadata": {},
   "source": [
    "## Decision Tree Classifier "
   ]
  },
  {
   "cell_type": "code",
   "execution_count": 27,
   "id": "72665602",
   "metadata": {},
   "outputs": [
    {
     "name": "stdout",
     "output_type": "stream",
     "text": [
      "Training Precision Score: 0.875\n",
      "Training Average precision-recall score: 0.06286636233427681\n",
      "Training F1 score: 0.012999071494893223\n",
      "Training Recall score: 0.006548175865294668\n"
     ]
    },
    {
     "data": {
      "image/png": "[encoded data removed]",
      "text/plain": [
       "<Figure size 432x432 with 1 Axes>"
      ]
     },
     "metadata": {},
     "output_type": "display_data"
    }
   ],
   "source": [
    "dt = DecisionTreeClassifier().fit(tfidf_tr, y_tr)\n",
    "y_pr_dt_tr = dt.predict(tfidf_tr)\n",
    "y_pr_dt_val = dt.predict(tfidf_val)\n",
    "t_rf_precision_train = precision_score(y_tr,y_pr_nb_tr)\n",
    "print('Training Precision Score:',t_rf_precision_train)\n",
    "average_precision = average_precision_score(y_tr,y_pr_nb_tr)\n",
    "print('Training Average precision-recall score:',average_precision)\n",
    "f1 = f1_score(y_tr,y_pr_nb_tr)\n",
    "print('Training F1 score:', f1)\n",
    "recall = recall_score(y_tr,y_pr_nb_tr)\n",
    "print('Training Recall score:',recall)\n",
    "fig, ax = plt.subplots(figsize=(6,6))\n",
    "mat = confusion_matrix(y_val, y_pr_dt_val)\n",
    "sns.heatmap(mat.T, square=True, annot=True, fmt='d', cbar=False,\n",
    "            xticklabels=['0', '1'], yticklabels=['1', '0'])\n",
    "plt.xlabel('predicted label')\n",
    "plt.ylabel('true label')\n",
    "plt.title('Confusion Matrix for Decision Tree Baseline')\n",
    "plt.show()"
   ]
  },
  {
   "cell_type": "markdown",
   "id": "2cd41388",
   "metadata": {},
   "source": [
    "## Logistic Regression"
   ]
  },
  {
   "cell_type": "code",
   "execution_count": 28,
   "id": "b7d65e23",
   "metadata": {},
   "outputs": [
    {
     "name": "stdout",
     "output_type": "stream",
     "text": [
      "Training Precision Score: 0.875\n",
      "Training Average precision-recall score: 0.06286636233427681\n",
      "Training F1 score: 0.012999071494893223\n",
      "Training Recall score: 0.15060804490177737\n"
     ]
    },
    {
     "data": {
      "image/png": "[encoded data removed]",
      "text/plain": [
       "<Figure size 432x432 with 1 Axes>"
      ]
     },
     "metadata": {},
     "output_type": "display_data"
    }
   ],
   "source": [
    "log = LogisticRegression().fit(tfidf_tr, y_tr)\n",
    "y_pr_log_tr = log.predict(tfidf_tr)\n",
    "y_pr_log_val = log.predict(tfidf_val)\n",
    "t_rf_precision_train = precision_score(y_tr,y_pr_nb_tr)\n",
    "print('Training Precision Score:',t_rf_precision_train)\n",
    "average_precision = average_precision_score(y_tr,y_pr_nb_tr)\n",
    "print('Training Average precision-recall score:',average_precision)\n",
    "f1 = f1_score(y_tr,y_pr_nb_tr)\n",
    "print('Training F1 score:', f1)\n",
    "recall = recall_score(y_tr,y_pr_log_tr)\n",
    "print('Training Recall score:',recall)\n",
    "fig, ax = plt.subplots(figsize=(6,6))\n",
    "mat = confusion_matrix(y_val, y_pr_dt_val)\n",
    "sns.heatmap(mat.T, square=True, annot=True, fmt='d', cbar=False,\n",
    "            xticklabels=['0', '1'], yticklabels=['1', '0'])\n",
    "plt.xlabel('predicted label')\n",
    "plt.ylabel('true label')\n",
    "plt.title('Confusion Matrix for Decision Tree Baseline')\n",
    "plt.show()\n"
   ]
  },
  {
   "cell_type": "markdown",
   "id": "023ff136",
   "metadata": {},
   "source": [
    "# Undersampling Methods"
   ]
  },
  {
   "cell_type": "code",
   "execution_count": 29,
   "id": "666d7c0e",
   "metadata": {},
   "outputs": [
    {
     "name": "stdout",
     "output_type": "stream",
     "text": [
      "Baseline:  Counter({0: 17518, 1: 1069})\n"
     ]
    }
   ],
   "source": [
    "# separate minority and majority classes\n",
    "majority = train[train.target==0]\n",
    "minority = train[train.target==1]\n",
    "\n",
    "#baseline counts\n",
    "counter = Counter(y_tr)\n",
    "print(\"Baseline: \", counter)"
   ]
  },
  {
   "cell_type": "markdown",
   "id": "339d711f",
   "metadata": {},
   "source": [
    "## Random UnderSampler "
   ]
  },
  {
   "cell_type": "code",
   "execution_count": 31,
   "id": "ffe1bc77",
   "metadata": {},
   "outputs": [
    {
     "name": "stdout",
     "output_type": "stream",
     "text": [
      "Random Undersampler:  Counter({0: 1069, 1: 1069})\n"
     ]
    }
   ],
   "source": [
    "rus = RandomUnderSampler()\n",
    "X_tr_rus, y_tr_rus = rus.fit_resample(tfidf_tr, y_tr)\n",
    "counter_rus = Counter(y_tr_rus)\n",
    "print(\"Random Undersampler: \", counter_rus)"
   ]
  },
  {
   "cell_type": "code",
   "execution_count": 38,
   "id": "810d35be",
   "metadata": {},
   "outputs": [
    {
     "name": "stdout",
     "output_type": "stream",
     "text": [
      "Training Precision Score: 0.9371534195933456\n",
      "Training Average precision-recall score: 0.9146618966021072\n",
      "Training F1 score: 0.9428172942817294\n",
      "Training Recall score: 0.9485500467726847\n"
     ]
    },
    {
     "data": {
      "image/png": "[encoded data removed]",
      "text/plain": [
       "<Figure size 432x432 with 1 Axes>"
      ]
     },
     "metadata": {},
     "output_type": "display_data"
    }
   ],
   "source": [
    "nb2 = MultinomialNB().fit(X_tr_rus, y_tr_rus)\n",
    "y_pr_nb2_tr = nb2.predict(X_tr_rus)\n",
    "y_pr_nb2_val = nb2.predict(tfidf_val)\n",
    "t_rf_precision_train = precision_score(y_tr_rus,y_pr_nb2_tr)\n",
    "print('Training Precision Score:',t_rf_precision_train)\n",
    "average_precision = average_precision_score(y_tr_rus,y_pr_nb2_tr)\n",
    "print('Training Average precision-recall score:',average_precision)\n",
    "f1 = f1_score(y_tr_rus,y_pr_nb2_tr)\n",
    "print('Training F1 score:', f1)\n",
    "recall = recall_score(y_tr_rus,y_pr_nb2_tr)\n",
    "print('Training Recall score:',recall)\n",
    "fig, ax = plt.subplots(figsize=(6,6))\n",
    "mat = confusion_matrix(y_val, y_pr_nb2_val)\n",
    "sns.heatmap(mat.T, square=True, annot=True, fmt='d', cbar=False,\n",
    "            xticklabels=['0', '1'], yticklabels=['1', '0'])\n",
    "plt.xlabel('predicted label')\n",
    "plt.ylabel('true label')\n",
    "plt.title('Confusion Matrix for Naive Bayes RandomUnderSampler')\n",
    "plt.show()\n"
   ]
  },
  {
   "cell_type": "code",
   "execution_count": 40,
   "id": "9a6fceb7",
   "metadata": {},
   "outputs": [
    {
     "name": "stdout",
     "output_type": "stream",
     "text": [
      "Training Precision Score: 0.9981290926099158\n",
      "Training Average precision-recall score: 0.997197139209336\n",
      "Training F1 score: 0.9981290926099158\n",
      "Training Recall score: 0.9981290926099158\n"
     ]
    },
    {
     "data": {
      "image/png": "[encoded data removed]",
      "text/plain": [
       "<Figure size 432x432 with 1 Axes>"
      ]
     },
     "metadata": {},
     "output_type": "display_data"
    }
   ],
   "source": [
    "rf2 = RandomForestClassifier(n_estimators=100).fit(X_tr_rus, y_tr_rus)\n",
    "y_pr_rf2_tr = rf2.predict(X_tr_rus)\n",
    "y_pr_rf2_val = rf2.predict(tfidf_val)\n",
    "t_rf_precision_train = precision_score(y_tr_rus,y_pr_rf2_tr)\n",
    "print('Training Precision Score:',t_rf_precision_train)\n",
    "average_precision = average_precision_score(y_tr_rus,y_pr_rf2_tr)\n",
    "print('Training Average precision-recall score:',average_precision)\n",
    "f1 = f1_score(y_tr_rus,y_pr_rf2_tr)\n",
    "print('Training F1 score:', f1)\n",
    "recall = recall_score(y_tr_rus,y_pr_rf2_tr)\n",
    "print('Training Recall score:',recall)\n",
    "fig, ax = plt.subplots(figsize=(6,6))\n",
    "mat = confusion_matrix(y_val, y_pr_rf2_val)\n",
    "sns.heatmap(mat.T, square=True, annot=True, fmt='d', cbar=False,\n",
    "            xticklabels=['0', '1'], yticklabels=['1', '0'])\n",
    "plt.xlabel('predicted label')\n",
    "plt.ylabel('true label')\n",
    "plt.title('Confusion Matrix for Random Forest RandomUnderSampler')\n",
    "plt.show()"
   ]
  },
  {
   "cell_type": "code",
   "execution_count": 44,
   "id": "f62ae256",
   "metadata": {},
   "outputs": [
    {
     "name": "stdout",
     "output_type": "stream",
     "text": [
      "Training Precision Score: 0.9326732673267327\n",
      "Training Average precision-recall score: 0.8812705498800582\n",
      "Training F1 score: 0.9062049062049062\n",
      "Training Recall score: 0.8811973807296539\n"
     ]
    },
    {
     "data": {
      "image/png": "[encoded data removed]",
      "text/plain": [
       "<Figure size 432x432 with 1 Axes>"
      ]
     },
     "metadata": {},
     "output_type": "display_data"
    }
   ],
   "source": [
    "log2 = LogisticRegression().fit(X_tr_rus, y_tr_rus)\n",
    "y_pr_log2_tr = log2.predict(X_tr_rus)\n",
    "y_pr_log2_val = log2.predict(tfidf_val)\n",
    "t_rf_precision_train = precision_score(y_tr_rus,y_pr_log2_tr)\n",
    "print('Training Precision Score:',t_rf_precision_train)\n",
    "average_precision = average_precision_score(y_tr_rus,y_pr_log2_tr)\n",
    "print('Training Average precision-recall score:',average_precision)\n",
    "f1 = f1_score(y_tr_rus,y_pr_log2_tr)\n",
    "print('Training F1 score:', f1)\n",
    "recall = recall_score(y_tr_rus,y_pr_log2_tr)\n",
    "print('Training Recall score:',recall)\n",
    "fig, ax = plt.subplots(figsize=(6,6))\n",
    "mat = confusion_matrix(y_val, y_pr_log2_val)\n",
    "sns.heatmap(mat.T, square=True, annot=True, fmt='d', cbar=False,\n",
    "            xticklabels=['0', '1'], yticklabels=['1', '0'])\n",
    "plt.xlabel('predicted label')\n",
    "plt.ylabel('true label')\n",
    "plt.title('Confusion Matrix for Random Forest RandomUnderSampler')\n",
    "plt.show()"
   ]
  },
  {
   "cell_type": "markdown",
   "id": "15f87699",
   "metadata": {},
   "source": [
    "## SMOTE-ENN"
   ]
  },
  {
   "cell_type": "code",
   "execution_count": 45,
   "id": "5c354d61",
   "metadata": {},
   "outputs": [
    {
     "name": "stdout",
     "output_type": "stream",
     "text": [
      "SMOTE-ENN:  Counter({1: 17443, 0: 16096})\n"
     ]
    }
   ],
   "source": [
    "sme = SMOTEENN(sampling_strategy=\"minority\")\n",
    "X_tr_sme, y_tr_sme = sme.fit_resample(tfidf_tr, y_tr)\n",
    "counter_sme = Counter(y_tr_sme)\n",
    "print(\"SMOTE-ENN: \", counter_sme)"
   ]
  },
  {
   "cell_type": "code",
   "execution_count": 51,
   "id": "54e94cbe",
   "metadata": {},
   "outputs": [
    {
     "name": "stdout",
     "output_type": "stream",
     "text": [
      "Training Precision Score: 0.9275175706851226\n",
      "Training Average precision-recall score: 0.9238970551192331\n",
      "Training F1 score: 0.9582617371542598\n",
      "Training Recall score: 0.9911139138909592\n"
     ]
    },
    {
     "data": {
      "image/png": "[encoded data removed]",
      "text/plain": [
       "<Figure size 432x432 with 1 Axes>"
      ]
     },
     "metadata": {},
     "output_type": "display_data"
    }
   ],
   "source": [
    "nb4 = MultinomialNB().fit(X_tr_sme, y_tr_sme)\n",
    "y_pr_nb4_tr = nb4.predict(X_tr_sme)\n",
    "y_pr_nb4_val = nb4.predict(tfidf_val)\n",
    "t_rf_precision_train = precision_score(y_tr_sme,y_pr_nb4_tr)\n",
    "print('Training Precision Score:',t_rf_precision_train)\n",
    "average_precision = average_precision_score(y_tr_sme,y_pr_nb4_tr)\n",
    "print('Training Average precision-recall score:',average_precision)\n",
    "f1 = f1_score(y_tr_sme,y_pr_nb4_tr)\n",
    "print('Training F1 score:', f1)\n",
    "recall = recall_score(y_tr_sme,y_pr_nb4_tr)\n",
    "print('Training Recall score:',recall)\n",
    "fig, ax = plt.subplots(figsize=(6,6))\n",
    "mat = confusion_matrix(y_val, y_pr_nb4_val)\n",
    "sns.heatmap(mat.T, square=True, annot=True, fmt='d', cbar=False,\n",
    "            xticklabels=['0', '1'], yticklabels=['1', '0'])\n",
    "plt.xlabel('predicted label')\n",
    "plt.ylabel('true label')\n",
    "plt.title('Confusion Matrix for Naive Bayes SMOTE-ENN')\n",
    "plt.show()"
   ]
  },
  {
   "cell_type": "code",
   "execution_count": 53,
   "id": "7c833565",
   "metadata": {},
   "outputs": [
    {
     "name": "stdout",
     "output_type": "stream",
     "text": [
      "Training Precision Score: 1.0\n",
      "Training Average precision-recall score: 1.0\n",
      "Training F1 score: 1.0\n",
      "Training Recall score: 1.0\n"
     ]
    },
    {
     "data": {
      "image/png": "[encoded data removed]",
      "text/plain": [
       "<Figure size 432x432 with 1 Axes>"
      ]
     },
     "metadata": {},
     "output_type": "display_data"
    }
   ],
   "source": [
    "rf4 = RandomForestClassifier(n_estimators=100).fit(X_tr_sme, y_tr_sme)\n",
    "y_pr_rf4_tr = rf4.predict(X_tr_sme)\n",
    "y_pr_rf4_val = rf4.predict(tfidf_val)\n",
    "precision_train = precision_score(y_tr_sme,y_pr_rf4_tr)\n",
    "print('Training Precision Score:',precision_train)\n",
    "average_precision = average_precision_score(y_tr_sme,y_pr_rf4_tr)\n",
    "print('Training Average precision-recall score:',average_precision)\n",
    "f1 = f1_score(y_tr_sme,y_pr_rf4_tr)\n",
    "print('Training F1 score:', f1)\n",
    "recall = recall_score(y_tr_sme,y_pr_rf4_tr)\n",
    "print('Training Recall score:',recall)\n",
    "fig, ax = plt.subplots(figsize=(6,6))\n",
    "mat = confusion_matrix(y_val, y_pr_rf4_val)\n",
    "sns.heatmap(mat.T, square=True, annot=True, fmt='d', cbar=False,\n",
    "            xticklabels=['0', '1'], yticklabels=['1', '0'])\n",
    "plt.xlabel('predicted label')\n",
    "plt.ylabel('true label')\n",
    "plt.title('Confusion Matrix for Random Forest SMOTE-ENN')\n",
    "plt.show()"
   ]
  },
  {
   "cell_type": "code",
   "execution_count": 54,
   "id": "da77b33f",
   "metadata": {},
   "outputs": [
    {
     "name": "stdout",
     "output_type": "stream",
     "text": [
      "Training Precision Score: 0.9275175706851226\n",
      "Training Average precision-recall score: 0.9238970551192331\n",
      "Training F1 score: 0.9582617371542598\n",
      "Training Recall score: 0.9911139138909592\n"
     ]
    },
    {
     "data": {
      "image/png": "[encoded data removed]",
      "text/plain": [
       "<Figure size 432x432 with 1 Axes>"
      ]
     },
     "metadata": {},
     "output_type": "display_data"
    }
   ],
   "source": [
    "log4 = LogisticRegression().fit(X_tr_sme, y_tr_sme)\n",
    "y_pr_log4_tr = nb4.predict(X_tr_sme)\n",
    "y_pr_log4_val = nb4.predict(tfidf_val)\n",
    "precision_train = precision_score(y_tr_sme,y_pr_log4_tr)\n",
    "print('Training Precision Score:',precision_train)\n",
    "average_precision = average_precision_score(y_tr_sme,y_pr_log4_tr)\n",
    "print('Training Average precision-recall score:',average_precision)\n",
    "f1 = f1_score(y_tr_sme,y_pr_log4_tr)\n",
    "print('Training F1 score:', f1)\n",
    "recall = recall_score(y_tr_sme,y_pr_log4_tr)\n",
    "print('Training Recall score:',recall)\n",
    "fig, ax = plt.subplots(figsize=(6,6))\n",
    "mat = confusion_matrix(y_val, y_pr_log4_val)\n",
    "sns.heatmap(mat.T, square=True, annot=True, fmt='d', cbar=False,\n",
    "            xticklabels=['0', '1'], yticklabels=['1', '0'])\n",
    "plt.xlabel('predicted label')\n",
    "plt.ylabel('true label')\n",
    "plt.title('Confusion Matrix for Random Forest SMOTE-ENN')\n",
    "plt.show()"
   ]
  },
  {
   "cell_type": "code",
   "execution_count": 69,
   "id": "a4bf3935",
   "metadata": {},
   "outputs": [],
   "source": [
    "data = {'F1 Score': [f1_score(y_val, y_pr_nb_val), \n",
    "                     f1_score(y_val, y_pr_rf_val), \n",
    "                     f1_score(y_val, y_pr_dt_val), \n",
    "                     f1_score(y_val, y_pr_log_val), \n",
    "                     f1_score(y_val, y_pr_nb2_val), \n",
    "                     f1_score(y_val, y_pr_rf2_val), \n",
    "                     f1_score(y_val, y_pr_log2_val), \n",
    "               \n",
    "                     f1_score(y_val, y_pr_rf4_val),                     \n",
    "                     f1_score(y_val, y_pr_nb4_val),\n",
    "                     f1_score(y_val, y_pr_log4_val)],\n",
    "        \n",
    "        'Recall': [recall_score(y_val, y_pr_nb_val), \n",
    "                   recall_score(y_val, y_pr_rf_val), \n",
    "                   recall_score(y_val, y_pr_dt_val), \n",
    "                   recall_score(y_val, y_pr_log_val), \n",
    "                   recall_score(y_val, y_pr_nb2_val), \n",
    "                   recall_score(y_val, y_pr_rf2_val), \n",
    "                   recall_score(y_val, y_pr_log2_val),\n",
    "              \n",
    "                   recall_score(y_val, y_pr_nb4_val),                   \n",
    "                   recall_score(y_val, y_pr_rf4_val),\n",
    "                   recall_score(y_val, y_pr_log4_val)],\n",
    "        \n",
    "        'Precision': [precision_score(y_val, y_pr_nb_val), \n",
    "                      precision_score(y_val, y_pr_rf_val), \n",
    "                      precision_score(y_val, y_pr_dt_val), \n",
    "                      precision_score(y_val, y_pr_log_val), \n",
    "                      precision_score(y_val, y_pr_nb2_val),\n",
    "                      precision_score(y_val, y_pr_rf2_val), \n",
    "                      precision_score(y_val, y_pr_log2_val),\n",
    "                    \n",
    "                      precision_score(y_val, y_pr_nb4_val),\n",
    "                      precision_score(y_val, y_pr_rf4_val),                                       \n",
    "                      precision_score(y_val, y_pr_log4_val)]}\n",
    "\n",
    "baseline = pd.DataFrame(data=data, index = ['Naive Bayes Baseline',\n",
    "                                            'Random Forest Baseline', \n",
    "                                            'Decision Tree Baseline', \n",
    "                                            'Logistic Regression Baseline',\n",
    "                                            'Naive Bayes RUS',\n",
    "                                            'Random Forest RUS',  \n",
    "                                            'Logistic Regression RUS', \n",
    "                                            \n",
    "                                            'Naive Bayes SMOTE-ENN',\n",
    "                                            'Random Forest SMOTE-ENN', \n",
    "                                            'Logistic Regression SMOTE-ENN'])"
   ]
  },
  {
   "cell_type": "code",
   "execution_count": 70,
   "id": "c1ab9464",
   "metadata": {},
   "outputs": [
    {
     "data": {
      "text/html": [
       "<div>\n",
       "<style scoped>\n",
       "    .dataframe tbody tr th:only-of-type {\n",
       "        vertical-align: middle;\n",
       "    }\n",
       "\n",
       "    .dataframe tbody tr th {\n",
       "        vertical-align: top;\n",
       "    }\n",
       "\n",
       "    .dataframe thead th {\n",
       "        text-align: right;\n",
       "    }\n",
       "</style>\n",
       "<table border=\"1\" class=\"dataframe\">\n",
       "  <thead>\n",
       "    <tr style=\"text-align: right;\">\n",
       "      <th></th>\n",
       "      <th>F1 Score</th>\n",
       "      <th>Recall</th>\n",
       "      <th>Precision</th>\n",
       "    </tr>\n",
       "  </thead>\n",
       "  <tbody>\n",
       "    <tr>\n",
       "      <th>Naive Bayes Baseline</th>\n",
       "      <td>0.000000</td>\n",
       "      <td>0.000000</td>\n",
       "      <td>0.000000</td>\n",
       "    </tr>\n",
       "    <tr>\n",
       "      <th>Random Forest Baseline</th>\n",
       "      <td>0.165899</td>\n",
       "      <td>0.099723</td>\n",
       "      <td>0.493151</td>\n",
       "    </tr>\n",
       "    <tr>\n",
       "      <th>Decision Tree Baseline</th>\n",
       "      <td>0.287926</td>\n",
       "      <td>0.257618</td>\n",
       "      <td>0.326316</td>\n",
       "    </tr>\n",
       "    <tr>\n",
       "      <th>Logistic Regression Baseline</th>\n",
       "      <td>0.177677</td>\n",
       "      <td>0.108033</td>\n",
       "      <td>0.500000</td>\n",
       "    </tr>\n",
       "    <tr>\n",
       "      <th>Naive Bayes RUS</th>\n",
       "      <td>0.249562</td>\n",
       "      <td>0.789474</td>\n",
       "      <td>0.148206</td>\n",
       "    </tr>\n",
       "    <tr>\n",
       "      <th>Random Forest RUS</th>\n",
       "      <td>0.300760</td>\n",
       "      <td>0.767313</td>\n",
       "      <td>0.187036</td>\n",
       "    </tr>\n",
       "    <tr>\n",
       "      <th>Logistic Regression RUS</th>\n",
       "      <td>0.362637</td>\n",
       "      <td>0.731302</td>\n",
       "      <td>0.241096</td>\n",
       "    </tr>\n",
       "    <tr>\n",
       "      <th>Naive Bayes SMOTE-ENN</th>\n",
       "      <td>0.403226</td>\n",
       "      <td>0.650970</td>\n",
       "      <td>0.185185</td>\n",
       "    </tr>\n",
       "    <tr>\n",
       "      <th>Random Forest SMOTE-ENN</th>\n",
       "      <td>0.288344</td>\n",
       "      <td>0.415512</td>\n",
       "      <td>0.391645</td>\n",
       "    </tr>\n",
       "    <tr>\n",
       "      <th>Logistic Regression SMOTE-ENN</th>\n",
       "      <td>0.288344</td>\n",
       "      <td>0.650970</td>\n",
       "      <td>0.185185</td>\n",
       "    </tr>\n",
       "  </tbody>\n",
       "</table>\n",
       "</div>"
      ],
      "text/plain": [
       "                               F1 Score    Recall  Precision\n",
       "Naive Bayes Baseline           0.000000  0.000000   0.000000\n",
       "Random Forest Baseline         0.165899  0.099723   0.493151\n",
       "Decision Tree Baseline         0.287926  0.257618   0.326316\n",
       "Logistic Regression Baseline   0.177677  0.108033   0.500000\n",
       "Naive Bayes RUS                0.249562  0.789474   0.148206\n",
       "Random Forest RUS              0.300760  0.767313   0.187036\n",
       "Logistic Regression RUS        0.362637  0.731302   0.241096\n",
       "Naive Bayes SMOTE-ENN          0.403226  0.650970   0.185185\n",
       "Random Forest SMOTE-ENN        0.288344  0.415512   0.391645\n",
       "Logistic Regression SMOTE-ENN  0.288344  0.650970   0.185185"
      ]
     },
     "execution_count": 70,
     "metadata": {},
     "output_type": "execute_result"
    }
   ],
   "source": [
    "baseline"
   ]
  },
  {
   "cell_type": "code",
   "execution_count": 71,
   "id": "5bd07999",
   "metadata": {},
   "outputs": [],
   "source": [
    "baseline.to_csv('data/baseline_df.csv')"
   ]
  },
  {
   "cell_type": "code",
   "execution_count": null,
   "id": "110c20dd",
   "metadata": {},
   "outputs": [],
   "source": []
  }
 ],
 "metadata": {
  "kernelspec": {
   "display_name": "Python 3 (ipykernel)",
   "language": "python",
   "name": "python3"
  },
  "language_info": {
   "codemirror_mode": {
    "name": "ipython",
    "version": 3
   },
   "file_extension": ".py",
   "mimetype": "text/x-python",
   "name": "python",
   "nbconvert_exporter": "python",
   "pygments_lexer": "ipython3",
   "version": "3.9.7"
  }
 },
 "nbformat": 4,
 "nbformat_minor": 5
}
