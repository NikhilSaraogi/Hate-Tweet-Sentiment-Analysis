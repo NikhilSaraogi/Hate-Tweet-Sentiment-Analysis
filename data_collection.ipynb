{
 "cells": [
  {
   "cell_type": "code",
   "execution_count": 1,
   "id": "37161657",
   "metadata": {},
   "outputs": [],
   "source": [
    "import numpy as np\n",
    "import pandas as pd\n",
    "import json\n",
    "import requests\n",
    "import matplotlib.pyplot as plt\n",
    "plt.style.use('ggplot')\n",
    "import seaborn as sns"
   ]
  },
  {
   "cell_type": "markdown",
   "id": "8ac6296d",
   "metadata": {},
   "source": [
    "## Loading Labeled Dataset with hate tweets IDs"
   ]
  },
  {
   "cell_type": "code",
   "execution_count": 2,
   "id": "d7930ec7",
   "metadata": {},
   "outputs": [],
   "source": [
    "df = pd.read_csv('data/hate_add.csv')\n"
   ]
  },
  {
   "cell_type": "code",
   "execution_count": 3,
   "id": "1dcaf6b3",
   "metadata": {},
   "outputs": [],
   "source": [
    "df = df[(df['racism']=='racism') | (df['racism']=='sexism')]"
   ]
  },
  {
   "cell_type": "code",
   "execution_count": 4,
   "id": "383810b6",
   "metadata": {},
   "outputs": [
    {
     "data": {
      "text/html": [
       "<div>\n",
       "<style scoped>\n",
       "    .dataframe tbody tr th:only-of-type {\n",
       "        vertical-align: middle;\n",
       "    }\n",
       "\n",
       "    .dataframe tbody tr th {\n",
       "        vertical-align: top;\n",
       "    }\n",
       "\n",
       "    .dataframe thead th {\n",
       "        text-align: right;\n",
       "    }\n",
       "</style>\n",
       "<table border=\"1\" class=\"dataframe\">\n",
       "  <thead>\n",
       "    <tr style=\"text-align: right;\">\n",
       "      <th></th>\n",
       "      <th>572342978255048705</th>\n",
       "      <th>racism</th>\n",
       "    </tr>\n",
       "  </thead>\n",
       "  <tbody>\n",
       "    <tr>\n",
       "      <th>0</th>\n",
       "      <td>572341498827522049</td>\n",
       "      <td>racism</td>\n",
       "    </tr>\n",
       "    <tr>\n",
       "      <th>1</th>\n",
       "      <td>572340476503724032</td>\n",
       "      <td>racism</td>\n",
       "    </tr>\n",
       "    <tr>\n",
       "      <th>2</th>\n",
       "      <td>572334712804384768</td>\n",
       "      <td>racism</td>\n",
       "    </tr>\n",
       "    <tr>\n",
       "      <th>3</th>\n",
       "      <td>572332655397629952</td>\n",
       "      <td>racism</td>\n",
       "    </tr>\n",
       "    <tr>\n",
       "      <th>4</th>\n",
       "      <td>575949086055997440</td>\n",
       "      <td>racism</td>\n",
       "    </tr>\n",
       "  </tbody>\n",
       "</table>\n",
       "</div>"
      ],
      "text/plain": [
       "   572342978255048705  racism\n",
       "0  572341498827522049  racism\n",
       "1  572340476503724032  racism\n",
       "2  572334712804384768  racism\n",
       "3  572332655397629952  racism\n",
       "4  575949086055997440  racism"
      ]
     },
     "execution_count": 4,
     "metadata": {},
     "output_type": "execute_result"
    }
   ],
   "source": [
    "df.head()"
   ]
  },
  {
   "cell_type": "code",
   "execution_count": 5,
   "id": "2a612d9b",
   "metadata": {},
   "outputs": [
    {
     "name": "stdout",
     "output_type": "stream",
     "text": [
      "<class 'pandas.core.frame.DataFrame'>\n",
      "Int64Index: 5347 entries, 0 to 5346\n",
      "Data columns (total 2 columns):\n",
      " #   Column              Non-Null Count  Dtype \n",
      "---  ------              --------------  ----- \n",
      " 0   572342978255048705  5347 non-null   int64 \n",
      " 1   racism              5347 non-null   object\n",
      "dtypes: int64(1), object(1)\n",
      "memory usage: 125.3+ KB\n"
     ]
    }
   ],
   "source": [
    "df.info()"
   ]
  },
  {
   "cell_type": "code",
   "execution_count": 6,
   "id": "e1817fe2",
   "metadata": {},
   "outputs": [
    {
     "data": {
      "text/plain": [
       "sexism    3378\n",
       "racism    1969\n",
       "Name: racism, dtype: int64"
      ]
     },
     "execution_count": 6,
     "metadata": {},
     "output_type": "execute_result"
    }
   ],
   "source": [
    "df.racism.value_counts()"
   ]
  },
  {
   "cell_type": "code",
   "execution_count": 7,
   "id": "30b4b27b",
   "metadata": {},
   "outputs": [],
   "source": [
    "df.columns = ['id','label']"
   ]
  },
  {
   "cell_type": "code",
   "execution_count": 8,
   "id": "772972d2",
   "metadata": {},
   "outputs": [],
   "source": [
    "def group_list(l,size = 100):\n",
    "    \"\"\"\n",
    "    Generate batches of 100 ids in each\n",
    "    Returns list of strings with , seperated ids\n",
    "    \"\"\"\n",
    "    n_l =[]\n",
    "    idx = 0\n",
    "    while idx < len(l):        \n",
    "        n_l.append(\n",
    "            ','.join([str(i) for i in l[idx:idx+size]])\n",
    "        )\n",
    "        idx += size\n",
    "    return n_l"
   ]
  },
  {
   "cell_type": "code",
   "execution_count": 10,
   "id": "79c6dab4",
   "metadata": {},
   "outputs": [
    {
     "name": "stdout",
     "output_type": "stream",
     "text": [
      "Collecting configNote: you may need to restart the kernel to use updated packages.\n",
      "  Downloading config-0.5.1-py2.py3-none-any.whl (20 kB)\n",
      "Installing collected packages: config\n",
      "Successfully installed config-0.5.1\n",
      "\n"
     ]
    }
   ],
   "source": [
    " pip install config"
   ]
  },
  {
   "cell_type": "code",
   "execution_count": 16,
   "id": "6170bc45",
   "metadata": {},
   "outputs": [],
   "source": [
    "import config\n",
    "\n",
    "def tweets_request(tweets_ids):\n",
    "    \n",
    "    \"\"\"\n",
    "    Make a requests to Tweeter API\n",
    "    \"\"\"\n",
    "    \n",
    "    df_lst = []\n",
    "    \n",
    "    for batch in tweets_ids:\n",
    "        url = \"https://api.twitter.com/2/tweets?ids={}&tweet.fields=created_at&expansions=author_id&user.fields=created_at\".format(batch)\n",
    "        payload={}\n",
    "        headers = {'Authorization': 'Bearer ' + \"AAAAAAAAAAAAAAAAAAAAALzXeQEAAAAAPEf6N72acs6oibkgHeNZ3yKB2gc%3Ddh7D3kzDk9LyNglWLrUNR8OL7uHM68mXLDzL1pEhZNvTueviMY\"\n",
    ",\n",
    "        'Cookie': 'personalization_id=\"v1_hzpv7qXpjB6CteyAHDWYQQ==\"; guest_id=v1%3A161498381400435837'}\n",
    "        r = requests.request(\"GET\", url, headers=headers, data=payload)\n",
    "        data = r.json()\n",
    "        if 'data' in data.keys():\n",
    "            df_lst.append(pd.DataFrame(data['data']))\n",
    "    \n",
    "    return pd.concat(df_lst)"
   ]
  },
  {
   "cell_type": "markdown",
   "id": "6fe64857",
   "metadata": {},
   "source": [
    "## Getting actual tweets text with API requests"
   ]
  },
  {
   "cell_type": "code",
   "execution_count": 17,
   "id": "010a0028",
   "metadata": {},
   "outputs": [],
   "source": [
    "racism_sex_hate_id = group_list(list(df.id))"
   ]
  },
  {
   "cell_type": "code",
   "execution_count": 18,
   "id": "1604f41f",
   "metadata": {},
   "outputs": [],
   "source": [
    "df_rac_sex_hate = tweets_request(racism_sex_hate_id)"
   ]
  },
  {
   "cell_type": "code",
   "execution_count": 19,
   "id": "d946a7b2",
   "metadata": {},
   "outputs": [
    {
     "data": {
      "text/html": [
       "<div>\n",
       "<style scoped>\n",
       "    .dataframe tbody tr th:only-of-type {\n",
       "        vertical-align: middle;\n",
       "    }\n",
       "\n",
       "    .dataframe tbody tr th {\n",
       "        vertical-align: top;\n",
       "    }\n",
       "\n",
       "    .dataframe thead th {\n",
       "        text-align: right;\n",
       "    }\n",
       "</style>\n",
       "<table border=\"1\" class=\"dataframe\">\n",
       "  <thead>\n",
       "    <tr style=\"text-align: right;\">\n",
       "      <th></th>\n",
       "      <th>id</th>\n",
       "      <th>created_at</th>\n",
       "      <th>author_id</th>\n",
       "      <th>text</th>\n",
       "    </tr>\n",
       "  </thead>\n",
       "  <tbody>\n",
       "    <tr>\n",
       "      <th>0</th>\n",
       "      <td>572341498827522049</td>\n",
       "      <td>2015-03-02T10:23:41.000Z</td>\n",
       "      <td>110114783</td>\n",
       "      <td>Drasko they didn't cook half a bird you idiot ...</td>\n",
       "    </tr>\n",
       "    <tr>\n",
       "      <th>1</th>\n",
       "      <td>572340476503724032</td>\n",
       "      <td>2015-03-02T10:19:37.000Z</td>\n",
       "      <td>38650214</td>\n",
       "      <td>Hopefully someone cooks Drasko in the next ep ...</td>\n",
       "    </tr>\n",
       "    <tr>\n",
       "      <th>2</th>\n",
       "      <td>572334712804384768</td>\n",
       "      <td>2015-03-02T09:56:43.000Z</td>\n",
       "      <td>2587278392</td>\n",
       "      <td>of course you were born in serbia...you're as ...</td>\n",
       "    </tr>\n",
       "    <tr>\n",
       "      <th>3</th>\n",
       "      <td>572332655397629952</td>\n",
       "      <td>2015-03-02T09:48:33.000Z</td>\n",
       "      <td>2601524623</td>\n",
       "      <td>These girls are the equivalent of the irritati...</td>\n",
       "    </tr>\n",
       "    <tr>\n",
       "      <th>0</th>\n",
       "      <td>446460991396917248</td>\n",
       "      <td>2014-03-20T01:39:29.000Z</td>\n",
       "      <td>930620467</td>\n",
       "      <td>RT @YesYoureRacist: At least you're only a tin...</td>\n",
       "    </tr>\n",
       "    <tr>\n",
       "      <th>...</th>\n",
       "      <td>...</td>\n",
       "      <td>...</td>\n",
       "      <td>...</td>\n",
       "      <td>...</td>\n",
       "    </tr>\n",
       "    <tr>\n",
       "      <th>24</th>\n",
       "      <td>569990621315919872</td>\n",
       "      <td>2015-02-23T22:42:08.000Z</td>\n",
       "      <td>2756873076</td>\n",
       "      <td>RT @Superjutah: @MT8_9 £34,000 is £9000 above ...</td>\n",
       "    </tr>\n",
       "    <tr>\n",
       "      <th>25</th>\n",
       "      <td>570244879265206272</td>\n",
       "      <td>2015-02-24T15:32:28.000Z</td>\n",
       "      <td>2756873076</td>\n",
       "      <td>RT @DufresneFrank: “@gabystama: @DufresneFrank...</td>\n",
       "    </tr>\n",
       "    <tr>\n",
       "      <th>26</th>\n",
       "      <td>571013698111860736</td>\n",
       "      <td>2015-02-26T18:27:29.000Z</td>\n",
       "      <td>2756873076</td>\n",
       "      <td>RT @BoycottBrandy: @ActionFlickDoc this person...</td>\n",
       "    </tr>\n",
       "    <tr>\n",
       "      <th>27</th>\n",
       "      <td>571304517930774528</td>\n",
       "      <td>2015-02-27T13:43:06.000Z</td>\n",
       "      <td>2756873076</td>\n",
       "      <td>RT @Lyall: Patriarchy™ will expel me if I divu...</td>\n",
       "    </tr>\n",
       "    <tr>\n",
       "      <th>28</th>\n",
       "      <td>575664315627216896</td>\n",
       "      <td>2015-03-11T14:27:22.000Z</td>\n",
       "      <td>2756873076</td>\n",
       "      <td>RT @AsheSchow: Women’s Studies: Learn how to t...</td>\n",
       "    </tr>\n",
       "  </tbody>\n",
       "</table>\n",
       "<p>2689 rows × 4 columns</p>\n",
       "</div>"
      ],
      "text/plain": [
       "                    id                created_at   author_id  \\\n",
       "0   572341498827522049  2015-03-02T10:23:41.000Z   110114783   \n",
       "1   572340476503724032  2015-03-02T10:19:37.000Z    38650214   \n",
       "2   572334712804384768  2015-03-02T09:56:43.000Z  2587278392   \n",
       "3   572332655397629952  2015-03-02T09:48:33.000Z  2601524623   \n",
       "0   446460991396917248  2014-03-20T01:39:29.000Z   930620467   \n",
       "..                 ...                       ...         ...   \n",
       "24  569990621315919872  2015-02-23T22:42:08.000Z  2756873076   \n",
       "25  570244879265206272  2015-02-24T15:32:28.000Z  2756873076   \n",
       "26  571013698111860736  2015-02-26T18:27:29.000Z  2756873076   \n",
       "27  571304517930774528  2015-02-27T13:43:06.000Z  2756873076   \n",
       "28  575664315627216896  2015-03-11T14:27:22.000Z  2756873076   \n",
       "\n",
       "                                                 text  \n",
       "0   Drasko they didn't cook half a bird you idiot ...  \n",
       "1   Hopefully someone cooks Drasko in the next ep ...  \n",
       "2   of course you were born in serbia...you're as ...  \n",
       "3   These girls are the equivalent of the irritati...  \n",
       "0   RT @YesYoureRacist: At least you're only a tin...  \n",
       "..                                                ...  \n",
       "24  RT @Superjutah: @MT8_9 £34,000 is £9000 above ...  \n",
       "25  RT @DufresneFrank: “@gabystama: @DufresneFrank...  \n",
       "26  RT @BoycottBrandy: @ActionFlickDoc this person...  \n",
       "27  RT @Lyall: Patriarchy™ will expel me if I divu...  \n",
       "28  RT @AsheSchow: Women’s Studies: Learn how to t...  \n",
       "\n",
       "[2689 rows x 4 columns]"
      ]
     },
     "execution_count": 19,
     "metadata": {},
     "output_type": "execute_result"
    }
   ],
   "source": [
    "df_rac_sex_hate"
   ]
  },
  {
   "cell_type": "code",
   "execution_count": 20,
   "id": "1fc5acfa",
   "metadata": {},
   "outputs": [],
   "source": [
    "df_rac_sex_hate = pd.read_csv('data/df_ras_sex_hate.csv')"
   ]
  },
  {
   "cell_type": "code",
   "execution_count": 22,
   "id": "93e86c29",
   "metadata": {},
   "outputs": [],
   "source": [
    "df_rac_sex_hate = df_rac_sex_hate.drop(columns=['Unnamed: 0', 'id', 'author_id', 'created_at'])"
   ]
  },
  {
   "cell_type": "code",
   "execution_count": 23,
   "id": "b422e176",
   "metadata": {},
   "outputs": [],
   "source": [
    "df_rac_sex_hate['class'] = 1"
   ]
  },
  {
   "cell_type": "code",
   "execution_count": 24,
   "id": "e90bb4f7",
   "metadata": {},
   "outputs": [
    {
     "data": {
      "text/html": [
       "<div>\n",
       "<style scoped>\n",
       "    .dataframe tbody tr th:only-of-type {\n",
       "        vertical-align: middle;\n",
       "    }\n",
       "\n",
       "    .dataframe tbody tr th {\n",
       "        vertical-align: top;\n",
       "    }\n",
       "\n",
       "    .dataframe thead th {\n",
       "        text-align: right;\n",
       "    }\n",
       "</style>\n",
       "<table border=\"1\" class=\"dataframe\">\n",
       "  <thead>\n",
       "    <tr style=\"text-align: right;\">\n",
       "      <th></th>\n",
       "      <th>text</th>\n",
       "      <th>class</th>\n",
       "    </tr>\n",
       "  </thead>\n",
       "  <tbody>\n",
       "    <tr>\n",
       "      <th>0</th>\n",
       "      <td>Drasko they didn't cook half a bird you idiot ...</td>\n",
       "      <td>1</td>\n",
       "    </tr>\n",
       "    <tr>\n",
       "      <th>1</th>\n",
       "      <td>Hopefully someone cooks Drasko in the next ep ...</td>\n",
       "      <td>1</td>\n",
       "    </tr>\n",
       "    <tr>\n",
       "      <th>2</th>\n",
       "      <td>of course you were born in serbia...you're as ...</td>\n",
       "      <td>1</td>\n",
       "    </tr>\n",
       "    <tr>\n",
       "      <th>3</th>\n",
       "      <td>These girls are the equivalent of the irritati...</td>\n",
       "      <td>1</td>\n",
       "    </tr>\n",
       "    <tr>\n",
       "      <th>4</th>\n",
       "      <td>RT @YesYoureRacist: At least you're only a tin...</td>\n",
       "      <td>1</td>\n",
       "    </tr>\n",
       "  </tbody>\n",
       "</table>\n",
       "</div>"
      ],
      "text/plain": [
       "                                                text  class\n",
       "0  Drasko they didn't cook half a bird you idiot ...      1\n",
       "1  Hopefully someone cooks Drasko in the next ep ...      1\n",
       "2  of course you were born in serbia...you're as ...      1\n",
       "3  These girls are the equivalent of the irritati...      1\n",
       "4  RT @YesYoureRacist: At least you're only a tin...      1"
      ]
     },
     "execution_count": 24,
     "metadata": {},
     "output_type": "execute_result"
    }
   ],
   "source": [
    "df_rac_sex_hate.head()"
   ]
  },
  {
   "cell_type": "code",
   "execution_count": 25,
   "id": "74b29cc6",
   "metadata": {},
   "outputs": [
    {
     "data": {
      "text/plain": [
       "(2744, 2)"
      ]
     },
     "execution_count": 25,
     "metadata": {},
     "output_type": "execute_result"
    }
   ],
   "source": [
    "df_rac_sex_hate.shape"
   ]
  },
  {
   "cell_type": "markdown",
   "id": "c42f3ad3",
   "metadata": {},
   "source": [
    "## Loading Labeled Dataset with tweets"
   ]
  },
  {
   "cell_type": "code",
   "execution_count": 26,
   "id": "08956a25",
   "metadata": {},
   "outputs": [
    {
     "data": {
      "text/html": [
       "<div>\n",
       "<style scoped>\n",
       "    .dataframe tbody tr th:only-of-type {\n",
       "        vertical-align: middle;\n",
       "    }\n",
       "\n",
       "    .dataframe tbody tr th {\n",
       "        vertical-align: top;\n",
       "    }\n",
       "\n",
       "    .dataframe thead th {\n",
       "        text-align: right;\n",
       "    }\n",
       "</style>\n",
       "<table border=\"1\" class=\"dataframe\">\n",
       "  <thead>\n",
       "    <tr style=\"text-align: right;\">\n",
       "      <th></th>\n",
       "      <th>Unnamed: 0</th>\n",
       "      <th>count</th>\n",
       "      <th>hate_speech</th>\n",
       "      <th>offensive_language</th>\n",
       "      <th>neither</th>\n",
       "      <th>class</th>\n",
       "      <th>tweet</th>\n",
       "    </tr>\n",
       "  </thead>\n",
       "  <tbody>\n",
       "    <tr>\n",
       "      <th>0</th>\n",
       "      <td>0</td>\n",
       "      <td>3</td>\n",
       "      <td>0</td>\n",
       "      <td>0</td>\n",
       "      <td>3</td>\n",
       "      <td>2</td>\n",
       "      <td>!!! RT @mayasolovely: As a woman you shouldn't...</td>\n",
       "    </tr>\n",
       "    <tr>\n",
       "      <th>1</th>\n",
       "      <td>1</td>\n",
       "      <td>3</td>\n",
       "      <td>0</td>\n",
       "      <td>3</td>\n",
       "      <td>0</td>\n",
       "      <td>1</td>\n",
       "      <td>!!!!! RT @mleew17: boy dats cold...tyga dwn ba...</td>\n",
       "    </tr>\n",
       "    <tr>\n",
       "      <th>2</th>\n",
       "      <td>2</td>\n",
       "      <td>3</td>\n",
       "      <td>0</td>\n",
       "      <td>3</td>\n",
       "      <td>0</td>\n",
       "      <td>1</td>\n",
       "      <td>!!!!!!! RT @UrKindOfBrand Dawg!!!! RT @80sbaby...</td>\n",
       "    </tr>\n",
       "    <tr>\n",
       "      <th>3</th>\n",
       "      <td>3</td>\n",
       "      <td>3</td>\n",
       "      <td>0</td>\n",
       "      <td>2</td>\n",
       "      <td>1</td>\n",
       "      <td>1</td>\n",
       "      <td>!!!!!!!!! RT @C_G_Anderson: @viva_based she lo...</td>\n",
       "    </tr>\n",
       "    <tr>\n",
       "      <th>4</th>\n",
       "      <td>4</td>\n",
       "      <td>6</td>\n",
       "      <td>0</td>\n",
       "      <td>6</td>\n",
       "      <td>0</td>\n",
       "      <td>1</td>\n",
       "      <td>!!!!!!!!!!!!! RT @ShenikaRoberts: The shit you...</td>\n",
       "    </tr>\n",
       "  </tbody>\n",
       "</table>\n",
       "</div>"
      ],
      "text/plain": [
       "   Unnamed: 0  count  hate_speech  offensive_language  neither  class  \\\n",
       "0           0      3            0                   0        3      2   \n",
       "1           1      3            0                   3        0      1   \n",
       "2           2      3            0                   3        0      1   \n",
       "3           3      3            0                   2        1      1   \n",
       "4           4      6            0                   6        0      1   \n",
       "\n",
       "                                               tweet  \n",
       "0  !!! RT @mayasolovely: As a woman you shouldn't...  \n",
       "1  !!!!! RT @mleew17: boy dats cold...tyga dwn ba...  \n",
       "2  !!!!!!! RT @UrKindOfBrand Dawg!!!! RT @80sbaby...  \n",
       "3  !!!!!!!!! RT @C_G_Anderson: @viva_based she lo...  \n",
       "4  !!!!!!!!!!!!! RT @ShenikaRoberts: The shit you...  "
      ]
     },
     "execution_count": 26,
     "metadata": {},
     "output_type": "execute_result"
    }
   ],
   "source": [
    "df_l = pd.read_csv(\"data/labeled_data.csv\")\n",
    "df_l.head()"
   ]
  },
  {
   "cell_type": "code",
   "execution_count": 27,
   "id": "5ee02672",
   "metadata": {},
   "outputs": [
    {
     "name": "stdout",
     "output_type": "stream",
     "text": [
      "1    0.774321\n",
      "2    0.167978\n",
      "0    0.057701\n",
      "Name: class, dtype: float64\n"
     ]
    },
    {
     "name": "stderr",
     "output_type": "stream",
     "text": [
      "C:\\ProgramData\\Anaconda3\\lib\\site-packages\\seaborn\\_decorators.py:36: FutureWarning: Pass the following variable as a keyword arg: x. From version 0.12, the only valid positional argument will be `data`, and passing other arguments without an explicit keyword will result in an error or misinterpretation.\n",
      "  warnings.warn(\n"
     ]
    },
    {
     "data": {
      "image/png": "[encoded data removed]",
      "text/plain": [
       "<Figure size 720x432 with 1 Axes>"
      ]
     },
     "metadata": {},
     "output_type": "display_data"
    }
   ],
   "source": [
    "print(df_l['class'].value_counts(normalize=True))\n",
    "\n",
    "# Class Imbalance \n",
    "\n",
    "fig, ax = plt.subplots(figsize=(10,6))\n",
    "ax = sns.countplot(df_l['class'], palette='Set2')\n",
    "\n",
    "ax.set_title('Amount of Tweets Per Label',fontsize = 20)\n",
    "ax.set_xlabel('Type of Tweet',fontsize = 15)\n",
    "ax.set_ylabel('Count',fontsize = 15)\n",
    "ax.set_xticklabels(['Hate_speech','Offensive_language', 'Neither'],fontsize = 13)\n",
    "\n",
    "total = float(len(df_l)) # one person per row \n",
    "for p in ax.patches:\n",
    "    height = p.get_height()\n",
    "    ax.text(p.get_x()+p.get_width()/2.,\n",
    "            height + 3,\n",
    "            '{:1.2f}'.format(height/total * 100) + '%',\n",
    "            ha=\"center\") "
   ]
  },
  {
   "cell_type": "code",
   "execution_count": 28,
   "id": "4e31ed99",
   "metadata": {},
   "outputs": [],
   "source": [
    "# class 0 - hate tweets\n",
    "# class 1 - offensive_language tweets\n",
    "# class 2 - neither tweets"
   ]
  },
  {
   "cell_type": "code",
   "execution_count": 29,
   "id": "e3fdaefe",
   "metadata": {},
   "outputs": [
    {
     "data": {
      "text/plain": [
       "1    19190\n",
       "2     4163\n",
       "0     1430\n",
       "Name: class, dtype: int64"
      ]
     },
     "execution_count": 29,
     "metadata": {},
     "output_type": "execute_result"
    }
   ],
   "source": [
    "df_l['class'].value_counts()"
   ]
  },
  {
   "cell_type": "code",
   "execution_count": 30,
   "id": "c56eb03e",
   "metadata": {},
   "outputs": [],
   "source": [
    "# considering only class 0 (hate tweets) and class 2 (neither tweets) as binary classification problem\n",
    "# updating neither tweets as not hate speech"
   ]
  },
  {
   "cell_type": "code",
   "execution_count": 31,
   "id": "7b3ad84b",
   "metadata": {},
   "outputs": [],
   "source": [
    "df_l = df_l.drop(columns=['Unnamed: 0', 'count', 'hate_speech', 'offensive_language', 'neither'])"
   ]
  },
  {
   "cell_type": "code",
   "execution_count": 32,
   "id": "0e3887ce",
   "metadata": {},
   "outputs": [],
   "source": [
    "df_l = df_l[(df_l['class']==0) | (df_l['class']==2)]"
   ]
  },
  {
   "cell_type": "code",
   "execution_count": 33,
   "id": "eaf6d1c8",
   "metadata": {},
   "outputs": [],
   "source": [
    "df_l['class'] = df_l['class'].map(lambda x : 0 if x == 2 else 1)"
   ]
  },
  {
   "cell_type": "code",
   "execution_count": 34,
   "id": "7bae113a",
   "metadata": {},
   "outputs": [],
   "source": [
    "df_l.rename(columns={'tweet':'text'}, inplace= True)"
   ]
  },
  {
   "cell_type": "markdown",
   "id": "ae69a954",
   "metadata": {},
   "source": [
    "## Lets combine 2 Data Frames with Labeled Classes of hate speach and not hate speach"
   ]
  },
  {
   "cell_type": "code",
   "execution_count": 35,
   "id": "ecf53bf9",
   "metadata": {},
   "outputs": [],
   "source": [
    "df_combined = pd.concat([df_rac_sex_hate,df_l])"
   ]
  },
  {
   "cell_type": "code",
   "execution_count": 36,
   "id": "19fd9445",
   "metadata": {
    "scrolled": true
   },
   "outputs": [
    {
     "name": "stdout",
     "output_type": "stream",
     "text": [
      "1    0.50066\n",
      "0    0.49934\n",
      "Name: class, dtype: float64\n"
     ]
    },
    {
     "name": "stderr",
     "output_type": "stream",
     "text": [
      "C:\\ProgramData\\Anaconda3\\lib\\site-packages\\seaborn\\_decorators.py:36: FutureWarning: Pass the following variable as a keyword arg: x. From version 0.12, the only valid positional argument will be `data`, and passing other arguments without an explicit keyword will result in an error or misinterpretation.\n",
      "  warnings.warn(\n"
     ]
    },
    {
     "data": {
      "image/png": "[encoded data removed]",
      "text/plain": [
       "<Figure size 720x432 with 1 Axes>"
      ]
     },
     "metadata": {},
     "output_type": "display_data"
    }
   ],
   "source": [
    "print(df_combined['class'].value_counts(normalize=True))\n",
    "\n",
    "# Class Imbalance \n",
    "\n",
    "fig, ax = plt.subplots(figsize=(10,6))\n",
    "ax = sns.countplot(df_combined['class'], palette='Set2')\n",
    "\n",
    "ax.set_title('Amount of Tweets Per Label',fontsize = 20)\n",
    "ax.set_xlabel('Type of Tweet',fontsize = 15)\n",
    "ax.set_ylabel('Count',fontsize = 15)\n",
    "ax.set_xticklabels(['Not Hate Speech','Hate Speech'],fontsize = 13)\n",
    "\n",
    "total = float(len(df_combined)) # one person per row \n",
    "for p in ax.patches:\n",
    "    height = p.get_height()\n",
    "    ax.text(p.get_x()+p.get_width()/2.,\n",
    "            height + 3,\n",
    "            '{:1.2f}'.format(height/total * 100) + '%',\n",
    "            ha=\"center\") "
   ]
  },
  {
   "cell_type": "markdown",
   "id": "872d6984",
   "metadata": {},
   "source": [
    "## Saving combined Data to CSV file"
   ]
  },
  {
   "cell_type": "code",
   "execution_count": 37,
   "id": "20ca9f0c",
   "metadata": {},
   "outputs": [],
   "source": [
    "df_combined.to_csv('data/balanced_data_combined.csv')"
   ]
  },
  {
   "cell_type": "code",
   "execution_count": null,
   "id": "f9097d70",
   "metadata": {},
   "outputs": [],
   "source": []
  }
 ],
 "metadata": {
  "kernelspec": {
   "display_name": "Python 3 (ipykernel)",
   "language": "python",
   "name": "python3"
  },
  "language_info": {
   "codemirror_mode": {
    "name": "ipython",
    "version": 3
   },
   "file_extension": ".py",
   "mimetype": "text/x-python",
   "name": "python",
   "nbconvert_exporter": "python",
   "pygments_lexer": "ipython3",
   "version": "3.9.7"
  }
 },
 "nbformat": 4,
 "nbformat_minor": 5
}
